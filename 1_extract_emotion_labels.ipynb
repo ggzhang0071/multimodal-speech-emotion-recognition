{
 "cells": [
  {
   "cell_type": "markdown",
   "metadata": {},
   "source": [
    "# Extract labels from the evaluation files\n",
    "\n",
    "Test for one file first"
   ]
  },
  {
   "cell_type": "code",
   "execution_count": 1,
   "metadata": {},
   "outputs": [],
   "source": [
    "import re\n",
    "\n",
    "# first test with one file\n",
    "file_path = '/git/datasets/IEMOCAP_full_release/Session1/dialog/EmoEvaluation/Ses01F_impro01.txt'"
   ]
  },
  {
   "cell_type": "code",
   "execution_count": 2,
   "metadata": {},
   "outputs": [],
   "source": [
    "useful_regex = re.compile(r'\\[.+\\]\\n', re.IGNORECASE)"
   ]
  },
  {
   "cell_type": "code",
   "execution_count": 3,
   "metadata": {},
   "outputs": [],
   "source": [
    "with open(file_path) as f:\n",
    "    file_content = f.read()\n",
    "    \n",
    "info_lines = re.findall(useful_regex, file_content)"
   ]
  },
  {
   "cell_type": "code",
   "execution_count": 4,
   "metadata": {},
   "outputs": [
    {
     "name": "stdout",
     "output_type": "stream",
     "text": [
      "['[6.2901 - 8.2357]', 'Ses01F_impro01_F000', 'neu', '[2.5000, 2.5000, 2.5000]']\n",
      "['[10.0100 - 11.3925]', 'Ses01F_impro01_F001', 'neu', '[2.5000, 2.5000, 2.5000]']\n",
      "['[14.8872 - 18.0175]', 'Ses01F_impro01_F002', 'neu', '[2.5000, 2.5000, 2.5000]']\n",
      "['[19.2900 - 20.7875]', 'Ses01F_impro01_F003', 'xxx', '[2.5000, 3.0000, 3.0000]']\n",
      "['[21.3257 - 24.7400]', 'Ses01F_impro01_F004', 'xxx', '[2.5000, 3.0000, 2.5000]']\n",
      "['[27.4600 - 31.4900]', 'Ses01F_impro01_F005', 'neu', '[2.5000, 3.5000, 2.0000]']\n",
      "['[38.9650 - 43.5900]', 'Ses01F_impro01_F006', 'fru', '[2.0000, 3.5000, 3.5000]']\n",
      "['[46.5800 - 52.1900]', 'Ses01F_impro01_F007', 'fru', '[2.5000, 3.5000, 3.5000]']\n",
      "['[56.1600 - 58.8225]', 'Ses01F_impro01_F008', 'fru', '[2.0000, 3.5000, 3.5000]']\n"
     ]
    }
   ],
   "source": [
    "for l in info_lines[1:10]:\n",
    "    print(l.strip().split('\\t'))"
   ]
  },
  {
   "cell_type": "markdown",
   "metadata": {},
   "source": [
    "## Compile all the information in a single file"
   ]
  },
  {
   "cell_type": "code",
   "execution_count": 5,
   "metadata": {},
   "outputs": [],
   "source": [
    "import re\n",
    "import os\n",
    "\n",
    "\n",
    "info_line = re.compile(r'\\[.+\\]\\n', re.IGNORECASE)\n",
    "\n",
    "start_times, end_times, wav_file_names, emotions, vals, acts, doms = [], [], [], [], [], [], []\n",
    "\n",
    "for sess in range(1, 6):\n",
    "    emo_evaluation_dir = '/git/datasets/IEMOCAP_full_release/Session{}/dialog/EmoEvaluation/'.format(sess)\n",
    "    evaluation_files = [l for l in os.listdir(emo_evaluation_dir) if 'Ses' in l]\n",
    "    for file in evaluation_files:\n",
    "        with open(emo_evaluation_dir + file,errors=\"replace\") as f:\n",
    "            content = f.read()\n",
    "        info_lines = re.findall(info_line, content)\n",
    "        for line in info_lines[1:]:  # the first line is a header\n",
    "            start_end_time, wav_file_name, emotion, val_act_dom = line.strip().split('\\t')\n",
    "            start_time, end_time = start_end_time[1:-1].split('-')\n",
    "            val, act, dom = val_act_dom[1:-1].split(',')\n",
    "            val, act, dom = float(val), float(act), float(dom)\n",
    "            start_time, end_time = float(start_time), float(end_time)\n",
    "            start_times.append(start_time)\n",
    "            end_times.append(end_time)\n",
    "            wav_file_names.append(wav_file_name)\n",
    "            emotions.append(emotion)\n",
    "            vals.append(val)\n",
    "            acts.append(act)\n",
    "            doms.append(dom)"
   ]
  },
  {
   "cell_type": "code",
   "execution_count": 6,
   "metadata": {},
   "outputs": [
    {
     "data": {
      "text/html": [
       "<div>\n",
       "<style scoped>\n",
       "    .dataframe tbody tr th:only-of-type {\n",
       "        vertical-align: middle;\n",
       "    }\n",
       "\n",
       "    .dataframe tbody tr th {\n",
       "        vertical-align: top;\n",
       "    }\n",
       "\n",
       "    .dataframe thead th {\n",
       "        text-align: right;\n",
       "    }\n",
       "</style>\n",
       "<table border=\"1\" class=\"dataframe\">\n",
       "  <thead>\n",
       "    <tr style=\"text-align: right;\">\n",
       "      <th></th>\n",
       "      <th>start_time</th>\n",
       "      <th>end_time</th>\n",
       "      <th>wav_file</th>\n",
       "      <th>emotion</th>\n",
       "      <th>val</th>\n",
       "      <th>act</th>\n",
       "      <th>dom</th>\n",
       "    </tr>\n",
       "  </thead>\n",
       "  <tbody>\n",
       "    <tr>\n",
       "      <th>10034</th>\n",
       "      <td>258.36</td>\n",
       "      <td>260.12</td>\n",
       "      <td>Ses05F_impro03_M064</td>\n",
       "      <td>hap</td>\n",
       "      <td>4.0</td>\n",
       "      <td>3.0</td>\n",
       "      <td>3.0</td>\n",
       "    </tr>\n",
       "    <tr>\n",
       "      <th>10035</th>\n",
       "      <td>260.15</td>\n",
       "      <td>263.98</td>\n",
       "      <td>Ses05F_impro03_M065</td>\n",
       "      <td>hap</td>\n",
       "      <td>4.5</td>\n",
       "      <td>4.5</td>\n",
       "      <td>4.5</td>\n",
       "    </tr>\n",
       "    <tr>\n",
       "      <th>10036</th>\n",
       "      <td>264.00</td>\n",
       "      <td>265.55</td>\n",
       "      <td>Ses05F_impro03_M066</td>\n",
       "      <td>hap</td>\n",
       "      <td>4.0</td>\n",
       "      <td>3.5</td>\n",
       "      <td>3.5</td>\n",
       "    </tr>\n",
       "    <tr>\n",
       "      <th>10037</th>\n",
       "      <td>267.07</td>\n",
       "      <td>269.23</td>\n",
       "      <td>Ses05F_impro03_M067</td>\n",
       "      <td>hap</td>\n",
       "      <td>4.0</td>\n",
       "      <td>3.0</td>\n",
       "      <td>3.5</td>\n",
       "    </tr>\n",
       "    <tr>\n",
       "      <th>10038</th>\n",
       "      <td>269.27</td>\n",
       "      <td>271.59</td>\n",
       "      <td>Ses05F_impro03_M068</td>\n",
       "      <td>hap</td>\n",
       "      <td>4.0</td>\n",
       "      <td>3.5</td>\n",
       "      <td>4.0</td>\n",
       "    </tr>\n",
       "  </tbody>\n",
       "</table>\n",
       "</div>"
      ],
      "text/plain": [
       "       start_time  end_time             wav_file emotion  val  act  dom\n",
       "10034      258.36    260.12  Ses05F_impro03_M064     hap  4.0  3.0  3.0\n",
       "10035      260.15    263.98  Ses05F_impro03_M065     hap  4.5  4.5  4.5\n",
       "10036      264.00    265.55  Ses05F_impro03_M066     hap  4.0  3.5  3.5\n",
       "10037      267.07    269.23  Ses05F_impro03_M067     hap  4.0  3.0  3.5\n",
       "10038      269.27    271.59  Ses05F_impro03_M068     hap  4.0  3.5  4.0"
      ]
     },
     "execution_count": 6,
     "metadata": {},
     "output_type": "execute_result"
    }
   ],
   "source": [
    "import pandas as pd\n",
    "\n",
    "df_iemocap = pd.DataFrame(columns=['start_time', 'end_time', 'wav_file', 'emotion', 'val', 'act', 'dom'])\n",
    "\n",
    "df_iemocap['start_time'] = start_times\n",
    "df_iemocap['end_time'] = end_times\n",
    "df_iemocap['wav_file'] = wav_file_names\n",
    "df_iemocap['emotion'] = emotions\n",
    "df_iemocap['val'] = vals\n",
    "df_iemocap['act'] = acts\n",
    "df_iemocap['dom'] = doms\n",
    "\n",
    "df_iemocap.tail()"
   ]
  },
  {
   "cell_type": "code",
   "execution_count": 8,
   "metadata": {},
   "outputs": [],
   "source": [
    "df_iemocap.to_csv('data/pre-processed/df_iemocap.csv', index=False)"
   ]
  },
  {
   "cell_type": "code",
   "execution_count": 9,
   "metadata": {},
   "outputs": [
    {
     "name": "stdout",
     "output_type": "stream",
     "text": [
      "       start_time  end_time             wav_file emotion  val  act  dom\n",
      "0          7.6300    8.5700  Ses01M_impro07_F000     neu  4.0  2.0  2.5\n",
      "1         13.9500   21.1200  Ses01M_impro07_F001     exc  4.5  4.0  3.0\n",
      "2         23.8800   25.2500  Ses01M_impro07_F002     xxx  3.5  3.0  2.0\n",
      "3         27.0600   29.8100  Ses01M_impro07_F003     exc  3.5  3.0  3.0\n",
      "4         30.3100   33.0800  Ses01M_impro07_F004     exc  4.0  3.5  3.0\n",
      "5         33.7200   37.2700  Ses01M_impro07_F005     exc  4.5  4.0  3.0\n",
      "6         37.8800   42.5825  Ses01M_impro07_F006     exc  3.5  3.5  3.0\n",
      "7         45.1450   49.2825  Ses01M_impro07_F007     exc  3.5  2.5  3.0\n",
      "8         49.6400   52.1000  Ses01M_impro07_F008     exc  4.0  2.5  3.0\n",
      "9         52.4600   57.4562  Ses01M_impro07_F009     exc  4.0  2.5  3.5\n",
      "10        58.7800   60.2100  Ses01M_impro07_F010     neu  3.0  2.0  2.0\n",
      "11        60.8100   66.7700  Ses01M_impro07_F011     exc  3.0  2.5  2.5\n",
      "12        68.6400   72.3500  Ses01M_impro07_F012     neu  4.0  3.0  2.5\n",
      "13        72.8400   76.2300  Ses01M_impro07_F013     exc  3.5  2.5  2.5\n",
      "14        76.5900   87.8575  Ses01M_impro07_F014     exc  4.0  3.0  3.0\n",
      "15        88.4125   92.4100  Ses01M_impro07_F015     exc  4.0  2.5  2.5\n",
      "16        95.2600  101.5000  Ses01M_impro07_F016     exc  4.0  3.0  2.5\n",
      "17       101.6200  109.0200  Ses01M_impro07_F017     xxx  3.5  2.5  3.0\n",
      "18       111.5900  116.3400  Ses01M_impro07_F018     exc  3.5  3.0  2.5\n",
      "19       116.5000  119.0250  Ses01M_impro07_F019     xxx  4.0  3.0  3.0\n",
      "20       121.1500  125.2500  Ses01M_impro07_F020     neu  3.0  2.5  2.5\n",
      "21       125.3100  132.5725  Ses01M_impro07_F021     exc  3.5  3.0  2.5\n",
      "22       132.8600  138.1200  Ses01M_impro07_F022     exc  4.0  3.5  3.5\n",
      "23       139.0700  141.8000  Ses01M_impro07_F023     exc  4.0  3.0  2.5\n",
      "24       141.9900  144.4850  Ses01M_impro07_F024     exc  3.5  3.0  2.5\n",
      "25       144.6600  148.2650  Ses01M_impro07_F025     exc  4.0  3.5  2.5\n",
      "26       149.7100  154.9200  Ses01M_impro07_F026     exc  4.0  4.0  3.5\n",
      "27       156.1800  167.8000  Ses01M_impro07_F027     exc  4.5  4.0  3.0\n",
      "28       171.7300  174.2000  Ses01M_impro07_F028     xxx  3.0  2.5  2.5\n",
      "29       174.9300  180.9100  Ses01M_impro07_F029     xxx  3.0  3.0  2.5\n",
      "...           ...       ...                  ...     ...  ...  ...  ...\n",
      "10009    169.5200  180.6600  Ses05F_impro03_M039     exc  4.0  4.0  4.0\n",
      "10010    183.9300  185.2800  Ses05F_impro03_M040     hap  4.0  3.0  3.5\n",
      "10011    185.3000  187.6300  Ses05F_impro03_M041     hap  5.0  3.5  4.0\n",
      "10012    188.8100  194.4800  Ses05F_impro03_M042     xxx  3.5  2.5  4.0\n",
      "10013    194.5000  198.6900  Ses05F_impro03_M043     exc  4.5  4.5  4.0\n",
      "10014    199.1200  201.7600  Ses05F_impro03_M044     exc  4.5  4.0  4.0\n",
      "10015    201.7800  206.7100  Ses05F_impro03_M045     exc  4.0  3.0  4.0\n",
      "10016    207.0500  208.6600  Ses05F_impro03_M046     exc  3.5  2.5  3.5\n",
      "10017    209.3700  211.0200  Ses05F_impro03_M047     xxx  3.5  2.5  3.0\n",
      "10018    212.2400  213.5100  Ses05F_impro03_M048     xxx  4.0  3.5  3.0\n",
      "10019    213.9600  217.8900  Ses05F_impro03_M049     hap  4.0  2.5  3.0\n",
      "10020    220.2900  222.7500  Ses05F_impro03_M050     exc  3.5  3.5  3.5\n",
      "10021    222.9400  225.5300  Ses05F_impro03_M051     exc  3.5  3.0  3.5\n",
      "10022    226.4700  227.3700  Ses05F_impro03_M052     xxx  3.0  3.0  3.0\n",
      "10023    228.4700  229.8800  Ses05F_impro03_M053     xxx  4.0  3.0  3.0\n",
      "10024    229.9300  233.4400  Ses05F_impro03_M054     xxx  3.5  3.0  3.5\n",
      "10025    234.7200  236.5600  Ses05F_impro03_M055     xxx  4.0  2.5  3.5\n",
      "10026    236.5951  239.5300  Ses05F_impro03_M056     xxx  4.0  3.0  3.5\n",
      "10027    240.8700  242.1100  Ses05F_impro03_M057     hap  4.5  3.0  4.0\n",
      "10028    242.1900  243.4600  Ses05F_impro03_M058     hap  4.0  3.0  3.0\n",
      "10029    245.5800  248.7100  Ses05F_impro03_M059     xxx  3.5  2.0  3.0\n",
      "10030    249.6000  251.2000  Ses05F_impro03_M060     hap  4.5  3.5  3.5\n",
      "10031    252.4800  254.5600  Ses05F_impro03_M061     hap  3.5  2.5  3.5\n",
      "10032    254.6400  256.2500  Ses05F_impro03_M062     hap  3.5  2.5  3.0\n",
      "10033    256.3600  258.1300  Ses05F_impro03_M063     hap  4.0  3.5  3.5\n",
      "10034    258.3600  260.1200  Ses05F_impro03_M064     hap  4.0  3.0  3.0\n",
      "10035    260.1500  263.9800  Ses05F_impro03_M065     hap  4.5  4.5  4.5\n",
      "10036    264.0000  265.5500  Ses05F_impro03_M066     hap  4.0  3.5  3.5\n",
      "10037    267.0700  269.2300  Ses05F_impro03_M067     hap  4.0  3.0  3.5\n",
      "10038    269.2700  271.5900  Ses05F_impro03_M068     hap  4.0  3.5  4.0\n",
      "\n",
      "[10039 rows x 7 columns]\n"
     ]
    }
   ],
   "source": [
    "print(df_iemocap)"
   ]
  },
  {
   "cell_type": "code",
   "execution_count": null,
   "metadata": {},
   "outputs": [],
   "source": []
  },
  {
   "cell_type": "code",
   "execution_count": null,
   "metadata": {},
   "outputs": [],
   "source": []
  },
  {
   "cell_type": "code",
   "execution_count": null,
   "metadata": {},
   "outputs": [],
   "source": []
  }
 ],
 "metadata": {
  "kernelspec": {
   "display_name": "Python 3",
   "language": "python",
   "name": "python3"
  },
  "language_info": {
   "codemirror_mode": {
    "name": "ipython",
    "version": 3
   },
   "file_extension": ".py",
   "mimetype": "text/x-python",
   "name": "python",
   "nbconvert_exporter": "python",
   "pygments_lexer": "ipython3",
   "version": "3.6.9"
  }
 },
 "nbformat": 4,
 "nbformat_minor": 4
}
