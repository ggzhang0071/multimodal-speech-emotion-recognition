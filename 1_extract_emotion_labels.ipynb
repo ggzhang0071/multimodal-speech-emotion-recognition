{
 "cells": [
  {
   "cell_type": "markdown",
   "metadata": {},
   "source": [
    "# Extract labels from the evaluation files\n",
    "\n",
    "Test for one file first"
   ]
  },
  {
   "cell_type": "code",
   "execution_count": 6,
   "metadata": {},
   "outputs": [],
   "source": [
    "import re\n",
    "\n",
    "# first test with one file\n",
    "file_path = '/git/datasets/IEMOCAP_full_release/Session1/dialog/EmoEvaluation/Ses01F_impro01.txt'"
   ]
  },
  {
   "cell_type": "code",
   "execution_count": 7,
   "metadata": {},
   "outputs": [],
   "source": [
    "useful_regex = re.compile(r'\\[.+\\]\\n', re.IGNORECASE)"
   ]
  },
  {
   "cell_type": "code",
   "execution_count": 8,
   "metadata": {},
   "outputs": [],
   "source": [
    "with open(file_path) as f:\n",
    "    file_content = f.read()\n",
    "    \n",
    "info_lines = re.findall(useful_regex, file_content)"
   ]
  },
  {
   "cell_type": "code",
   "execution_count": 9,
   "metadata": {},
   "outputs": [
    {
     "name": "stdout",
     "output_type": "stream",
     "text": [
      "['[6.2901 - 8.2357]', 'Ses01F_impro01_F000', 'neu', '[2.5000, 2.5000, 2.5000]']\n",
      "['[10.0100 - 11.3925]', 'Ses01F_impro01_F001', 'neu', '[2.5000, 2.5000, 2.5000]']\n",
      "['[14.8872 - 18.0175]', 'Ses01F_impro01_F002', 'neu', '[2.5000, 2.5000, 2.5000]']\n",
      "['[19.2900 - 20.7875]', 'Ses01F_impro01_F003', 'xxx', '[2.5000, 3.0000, 3.0000]']\n",
      "['[21.3257 - 24.7400]', 'Ses01F_impro01_F004', 'xxx', '[2.5000, 3.0000, 2.5000]']\n",
      "['[27.4600 - 31.4900]', 'Ses01F_impro01_F005', 'neu', '[2.5000, 3.5000, 2.0000]']\n",
      "['[38.9650 - 43.5900]', 'Ses01F_impro01_F006', 'fru', '[2.0000, 3.5000, 3.5000]']\n",
      "['[46.5800 - 52.1900]', 'Ses01F_impro01_F007', 'fru', '[2.5000, 3.5000, 3.5000]']\n",
      "['[56.1600 - 58.8225]', 'Ses01F_impro01_F008', 'fru', '[2.0000, 3.5000, 3.5000]']\n"
     ]
    }
   ],
   "source": [
    "for l in info_lines[1:10]:\n",
    "    print(l.strip().split('\\t'))"
   ]
  },
  {
   "cell_type": "markdown",
   "metadata": {},
   "source": [
    "## Compile all the information in a single file"
   ]
  },
  {
   "cell_type": "code",
   "execution_count": 15,
   "metadata": {},
   "outputs": [],
   "source": [
    "import re\n",
    "import os\n",
    "\n",
    "\n",
    "info_line = re.compile(r'\\[.+\\]\\n', re.IGNORECASE)\n",
    "\n",
    "start_times, end_times, wav_file_names, emotions, vals, acts, doms = [], [], [], [], [], [], []\n",
    "\n",
    "for sess in range(1, 6):\n",
    "    emo_evaluation_dir = '/git/datasets/IEMOCAP_full_release/Session{}/dialog/EmoEvaluation/'.format(sess)\n",
    "    evaluation_files = [l for l in os.listdir(emo_evaluation_dir) if 'Ses' in l]\n",
    "    for file in evaluation_files:\n",
    "        with open(emo_evaluation_dir + file,errors=\"replace\") as f:\n",
    "            content = f.read()\n",
    "        info_lines = re.findall(info_line, content)\n",
    "        for line in info_lines[1:]:  # the first line is a header\n",
    "            start_end_time, wav_file_name, emotion, val_act_dom = line.strip().split('\\t')\n",
    "            start_time, end_time = start_end_time[1:-1].split('-')\n",
    "            val, act, dom = val_act_dom[1:-1].split(',')\n",
    "            val, act, dom = float(val), float(act), float(dom)\n",
    "            start_time, end_time = float(start_time), float(end_time)\n",
    "            start_times.append(start_time)\n",
    "            end_times.append(end_time)\n",
    "            wav_file_names.append(wav_file_name)\n",
    "            emotions.append(emotion)\n",
    "            vals.append(val)\n",
    "            acts.append(act)\n",
    "            doms.append(dom)"
   ]
  },
  {
   "cell_type": "code",
   "execution_count": 16,
   "metadata": {},
   "outputs": [
    {
     "data": {
      "text/html": [
       "<div>\n",
       "<style scoped>\n",
       "    .dataframe tbody tr th:only-of-type {\n",
       "        vertical-align: middle;\n",
       "    }\n",
       "\n",
       "    .dataframe tbody tr th {\n",
       "        vertical-align: top;\n",
       "    }\n",
       "\n",
       "    .dataframe thead th {\n",
       "        text-align: right;\n",
       "    }\n",
       "</style>\n",
       "<table border=\"1\" class=\"dataframe\">\n",
       "  <thead>\n",
       "    <tr style=\"text-align: right;\">\n",
       "      <th></th>\n",
       "      <th>start_time</th>\n",
       "      <th>end_time</th>\n",
       "      <th>wav_file</th>\n",
       "      <th>emotion</th>\n",
       "      <th>val</th>\n",
       "      <th>act</th>\n",
       "      <th>dom</th>\n",
       "    </tr>\n",
       "  </thead>\n",
       "  <tbody>\n",
       "    <tr>\n",
       "      <th>10034</th>\n",
       "      <td>236.57</td>\n",
       "      <td>244.83</td>\n",
       "      <td>Ses05M_script03_2_M041</td>\n",
       "      <td>ang</td>\n",
       "      <td>1.0</td>\n",
       "      <td>4.5</td>\n",
       "      <td>5.0</td>\n",
       "    </tr>\n",
       "    <tr>\n",
       "      <th>10035</th>\n",
       "      <td>244.84</td>\n",
       "      <td>246.58</td>\n",
       "      <td>Ses05M_script03_2_M042</td>\n",
       "      <td>ang</td>\n",
       "      <td>1.0</td>\n",
       "      <td>4.5</td>\n",
       "      <td>4.5</td>\n",
       "    </tr>\n",
       "    <tr>\n",
       "      <th>10036</th>\n",
       "      <td>246.59</td>\n",
       "      <td>248.83</td>\n",
       "      <td>Ses05M_script03_2_M043</td>\n",
       "      <td>ang</td>\n",
       "      <td>1.5</td>\n",
       "      <td>4.0</td>\n",
       "      <td>4.5</td>\n",
       "    </tr>\n",
       "    <tr>\n",
       "      <th>10037</th>\n",
       "      <td>255.86</td>\n",
       "      <td>260.33</td>\n",
       "      <td>Ses05M_script03_2_M044</td>\n",
       "      <td>ang</td>\n",
       "      <td>1.0</td>\n",
       "      <td>5.0</td>\n",
       "      <td>5.0</td>\n",
       "    </tr>\n",
       "    <tr>\n",
       "      <th>10038</th>\n",
       "      <td>260.34</td>\n",
       "      <td>266.35</td>\n",
       "      <td>Ses05M_script03_2_M045</td>\n",
       "      <td>ang</td>\n",
       "      <td>1.0</td>\n",
       "      <td>5.0</td>\n",
       "      <td>5.0</td>\n",
       "    </tr>\n",
       "  </tbody>\n",
       "</table>\n",
       "</div>"
      ],
      "text/plain": [
       "       start_time  end_time                wav_file emotion  val  act  dom\n",
       "10034      236.57    244.83  Ses05M_script03_2_M041     ang  1.0  4.5  5.0\n",
       "10035      244.84    246.58  Ses05M_script03_2_M042     ang  1.0  4.5  4.5\n",
       "10036      246.59    248.83  Ses05M_script03_2_M043     ang  1.5  4.0  4.5\n",
       "10037      255.86    260.33  Ses05M_script03_2_M044     ang  1.0  5.0  5.0\n",
       "10038      260.34    266.35  Ses05M_script03_2_M045     ang  1.0  5.0  5.0"
      ]
     },
     "execution_count": 16,
     "metadata": {},
     "output_type": "execute_result"
    }
   ],
   "source": [
    "import pandas as pd\n",
    "\n",
    "df_iemocap = pd.DataFrame(columns=['start_time', 'end_time', 'wav_file', 'emotion', 'val', 'act', 'dom'])\n",
    "\n",
    "df_iemocap['start_time'] = start_times\n",
    "df_iemocap['end_time'] = end_times\n",
    "df_iemocap['wav_file'] = wav_file_names\n",
    "df_iemocap['emotion'] = emotions\n",
    "df_iemocap['val'] = vals\n",
    "df_iemocap['act'] = acts\n",
    "df_iemocap['dom'] = doms\n",
    "\n",
    "df_iemocap.tail()"
   ]
  },
  {
   "cell_type": "code",
   "execution_count": 18,
   "metadata": {},
   "outputs": [],
   "source": [
    "df_iemocap.to_csv('data/pre-processed/df_iemocap.csv', index=False)"
   ]
  },
  {
   "cell_type": "code",
   "execution_count": 19,
   "metadata": {},
   "outputs": [
    {
     "name": "stdout",
     "output_type": "stream",
     "text": [
      "       start_time  end_time                wav_file emotion  val  act  dom\n",
      "0          6.2901    8.2357     Ses01F_impro01_F000     neu  2.5  2.5  2.5\n",
      "1         10.0100   11.3925     Ses01F_impro01_F001     neu  2.5  2.5  2.5\n",
      "2         14.8872   18.0175     Ses01F_impro01_F002     neu  2.5  2.5  2.5\n",
      "3         19.2900   20.7875     Ses01F_impro01_F003     xxx  2.5  3.0  3.0\n",
      "4         21.3257   24.7400     Ses01F_impro01_F004     xxx  2.5  3.0  2.5\n",
      "5         27.4600   31.4900     Ses01F_impro01_F005     neu  2.5  3.5  2.0\n",
      "6         38.9650   43.5900     Ses01F_impro01_F006     fru  2.0  3.5  3.5\n",
      "7         46.5800   52.1900     Ses01F_impro01_F007     fru  2.5  3.5  3.5\n",
      "8         56.1600   58.8225     Ses01F_impro01_F008     fru  2.0  3.5  3.5\n",
      "9         61.8700   65.9700     Ses01F_impro01_F009     fru  2.0  3.5  3.0\n",
      "10        66.4200   69.3400     Ses01F_impro01_F010     xxx  1.5  3.5  3.5\n",
      "11        72.4500   82.2600     Ses01F_impro01_F011     fru  2.0  3.5  3.5\n",
      "12        85.2700   88.0200     Ses01F_impro01_F012     ang  2.0  3.5  3.5\n",
      "13        93.6700   97.0218     Ses01F_impro01_F013     fru  2.0  4.0  3.5\n",
      "14        97.8900  102.9600     Ses01F_impro01_F014     neu  2.5  3.5  3.5\n",
      "15       103.9700  106.7100     Ses01F_impro01_F015     fru  2.0  3.5  3.0\n",
      "16         7.5712   10.4750     Ses01F_impro01_M000     fru  2.5  2.0  2.5\n",
      "17        10.9266   14.6649     Ses01F_impro01_M001     fru  2.5  2.0  2.5\n",
      "18        16.8352   19.7175     Ses01F_impro01_M002     fru  2.0  3.5  3.5\n",
      "19        23.4700   28.0300     Ses01F_impro01_M003     fru  2.5  3.5  3.5\n",
      "20        28.3950   31.2117     Ses01F_impro01_M004     fru  2.0  4.0  3.5\n",
      "21        31.2660   39.3875     Ses01F_impro01_M005     fru  2.0  3.5  3.5\n",
      "22        41.2300   46.9800     Ses01F_impro01_M006     fru  2.0  3.5  3.5\n",
      "23        51.4000   57.6400     Ses01F_impro01_M007     fru  2.5  3.5  3.0\n",
      "24        58.1800   62.5900     Ses01F_impro01_M008     fru  2.0  3.5  3.5\n",
      "25        65.5100   73.0000     Ses01F_impro01_M009     fru  2.5  3.5  4.0\n",
      "26        81.5900   86.0300     Ses01F_impro01_M010     fru  2.0  4.5  4.0\n",
      "27        87.1500   94.3900     Ses01F_impro01_M011     ang  2.0  4.0  4.0\n",
      "28        95.8600   98.6800     Ses01F_impro01_M012     xxx  3.0  1.5  2.0\n",
      "29       101.8400  107.8700     Ses01F_impro01_M013     ang  2.0  4.5  4.5\n",
      "...           ...       ...                     ...     ...  ...  ...  ...\n",
      "10009     87.0900   92.7300  Ses05M_script03_2_M016     fru  2.5  3.0  3.0\n",
      "10010     94.5500   98.9600  Ses05M_script03_2_M017     fru  4.0  3.0  3.0\n",
      "10011    101.8100  103.9800  Ses05M_script03_2_M018     xxx  3.5  3.0  3.0\n",
      "10012    104.0100  105.1900  Ses05M_script03_2_M019     xxx  2.5  3.0  3.5\n",
      "10013    107.9400  113.2900  Ses05M_script03_2_M020     ang  2.5  3.0  3.5\n",
      "10014    115.3900  117.7900  Ses05M_script03_2_M021     xxx  2.0  3.5  4.0\n",
      "10015    118.8300  122.3300  Ses05M_script03_2_M022     fru  1.5  3.5  4.0\n",
      "10016    122.3400  123.5900  Ses05M_script03_2_M023     ang  1.5  4.0  4.5\n",
      "10017    129.4400  136.1000  Ses05M_script03_2_M024     neu  2.5  3.0  4.0\n",
      "10018    136.8800  141.2000  Ses05M_script03_2_M025     ang  3.5  3.0  3.5\n",
      "10019    141.9200  149.3500  Ses05M_script03_2_M026     ang  1.5  4.0  4.5\n",
      "10020    150.7700  153.7600  Ses05M_script03_2_M027     ang  2.0  3.5  4.5\n",
      "10021    154.3900  162.3300  Ses05M_script03_2_M028     ang  1.5  4.0  5.0\n",
      "10022    165.2600  169.8100  Ses05M_script03_2_M029     ang  2.0  4.5  4.5\n",
      "10023    172.0500  177.6500  Ses05M_script03_2_M030     ang  2.0  5.0  4.5\n",
      "10024    179.6000  183.2400  Ses05M_script03_2_M031     ang  1.5  4.0  4.5\n",
      "10025    186.8900  188.9900  Ses05M_script03_2_M032     ang  2.0  3.5  3.5\n",
      "10026    190.3300  193.9600  Ses05M_script03_2_M033     ang  2.5  3.5  3.5\n",
      "10027    196.1700  198.6600  Ses05M_script03_2_M034     ang  2.5  3.5  3.5\n",
      "10028    198.8600  201.7200  Ses05M_script03_2_M035     ang  2.0  3.5  4.0\n",
      "10029    203.0700  205.2300  Ses05M_script03_2_M036     ang  2.5  3.5  3.5\n",
      "10030    210.8600  213.3600  Ses05M_script03_2_M037     ang  1.0  4.0  4.5\n",
      "10031    214.7900  216.2300  Ses05M_script03_2_M038     ang  1.5  4.0  4.5\n",
      "10032    218.8300  221.3700  Ses05M_script03_2_M039     ang  2.0  3.0  4.0\n",
      "10033    227.4800  230.8500  Ses05M_script03_2_M040     ang  4.0  4.0  3.5\n",
      "10034    236.5700  244.8300  Ses05M_script03_2_M041     ang  1.0  4.5  5.0\n",
      "10035    244.8400  246.5800  Ses05M_script03_2_M042     ang  1.0  4.5  4.5\n",
      "10036    246.5900  248.8300  Ses05M_script03_2_M043     ang  1.5  4.0  4.5\n",
      "10037    255.8600  260.3300  Ses05M_script03_2_M044     ang  1.0  5.0  5.0\n",
      "10038    260.3400  266.3500  Ses05M_script03_2_M045     ang  1.0  5.0  5.0\n",
      "\n",
      "[10039 rows x 7 columns]\n"
     ]
    }
   ],
   "source": [
    "print(df_iemocap)"
   ]
  },
  {
   "cell_type": "code",
   "execution_count": null,
   "metadata": {},
   "outputs": [],
   "source": []
  },
  {
   "cell_type": "code",
   "execution_count": null,
   "metadata": {},
   "outputs": [],
   "source": []
  },
  {
   "cell_type": "code",
   "execution_count": null,
   "metadata": {},
   "outputs": [],
   "source": []
  }
 ],
 "metadata": {
  "kernelspec": {
   "display_name": "Python 3",
   "language": "python",
   "name": "python3"
  },
  "language_info": {
   "codemirror_mode": {
    "name": "ipython",
    "version": 3
   },
   "file_extension": ".py",
   "mimetype": "text/x-python",
   "name": "python",
   "nbconvert_exporter": "python",
   "pygments_lexer": "ipython3",
   "version": "3.6.9"
  }
 },
 "nbformat": 4,
 "nbformat_minor": 4
}
